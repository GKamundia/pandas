{
 "cells": [
  {
   "cell_type": "markdown",
   "metadata": {},
   "source": [
    "# World Cup Matches -  Notebook\n",
    "This notebook will guide you through:\n",
    "- Loading and inspecting the dataset with Pandas\n",
    "- Selecting specific rows and columns\n",
    "- Filtering data with boolean masks\n",
    "- Adding new columns and modifying existing ones"
   ]
  },
  {
   "cell_type": "markdown",
   "metadata": {},
   "source": [
    "## Objectives\n",
    "1. Access information about a dataset with pandas methods.\n",
    "2. Select rows and columns using `.loc` and `.iloc`.\n",
    "3. Use boolean indexing to filter data.\n",
    "4. Add and modify columns in a DataFrame."
   ]
  },
  {
   "cell_type": "code",
   "execution_count": 16,
   "metadata": {},
   "outputs": [
    {
     "data": {
      "application/vnd.microsoft.datawrangler.viewer.v0+json": {
       "columns": [
        {
         "name": "index",
         "rawType": "int64",
         "type": "integer"
        },
        {
         "name": "Year",
         "rawType": "int64",
         "type": "integer"
        },
        {
         "name": "Datetime",
         "rawType": "object",
         "type": "string"
        },
        {
         "name": "Stage",
         "rawType": "object",
         "type": "string"
        },
        {
         "name": "Stadium",
         "rawType": "object",
         "type": "string"
        },
        {
         "name": "City",
         "rawType": "object",
         "type": "string"
        },
        {
         "name": "Home Team Name",
         "rawType": "object",
         "type": "string"
        },
        {
         "name": "Home Team Goals",
         "rawType": "int64",
         "type": "integer"
        },
        {
         "name": "Away Team Goals",
         "rawType": "int64",
         "type": "integer"
        },
        {
         "name": "Away Team Name",
         "rawType": "object",
         "type": "string"
        },
        {
         "name": "Win conditions",
         "rawType": "object",
         "type": "string"
        },
        {
         "name": "Attendance",
         "rawType": "float64",
         "type": "float"
        },
        {
         "name": "Half-time Home Goals",
         "rawType": "int64",
         "type": "integer"
        },
        {
         "name": "Half-time Away Goals",
         "rawType": "int64",
         "type": "integer"
        },
        {
         "name": "Referee",
         "rawType": "object",
         "type": "string"
        },
        {
         "name": "Assistant 1",
         "rawType": "object",
         "type": "string"
        },
        {
         "name": "Assistant 2",
         "rawType": "object",
         "type": "string"
        },
        {
         "name": "RoundID",
         "rawType": "int64",
         "type": "integer"
        },
        {
         "name": "MatchID",
         "rawType": "int64",
         "type": "integer"
        },
        {
         "name": "Home Team Initials",
         "rawType": "object",
         "type": "string"
        },
        {
         "name": "Away Team Initials",
         "rawType": "object",
         "type": "string"
        }
       ],
       "conversionMethod": "pd.DataFrame",
       "ref": "ea447d6a-6f58-49ab-b23c-f57737e1f52e",
       "rows": [
        [
         "0",
         "1930",
         "13 Jul 1930 - 15:00 ",
         "Group 1",
         "Pocitos",
         "Montevideo ",
         "France",
         "4",
         "1",
         "Mexico",
         " ",
         "4444.0",
         "3",
         "0",
         "LOMBARDI Domingo (URU)",
         "CRISTOPHE Henry (BEL)",
         "REGO Gilberto (BRA)",
         "201",
         "1096",
         "FRA",
         "MEX"
        ],
        [
         "1",
         "1930",
         "13 Jul 1930 - 15:00 ",
         "Group 4",
         "Parque Central",
         "Montevideo ",
         "USA",
         "3",
         "0",
         "Belgium",
         " ",
         "18346.0",
         "2",
         "0",
         "MACIAS Jose (ARG)",
         "MATEUCCI Francisco (URU)",
         "WARNKEN Alberto (CHI)",
         "201",
         "1090",
         "USA",
         "BEL"
        ],
        [
         "2",
         "1930",
         "14 Jul 1930 - 12:45 ",
         "Group 2",
         "Parque Central",
         "Montevideo ",
         "Yugoslavia",
         "2",
         "1",
         "Brazil",
         " ",
         "24059.0",
         "2",
         "0",
         "TEJADA Anibal (URU)",
         "VALLARINO Ricardo (URU)",
         "BALWAY Thomas (FRA)",
         "201",
         "1093",
         "YUG",
         "BRA"
        ],
        [
         "3",
         "1930",
         "14 Jul 1930 - 14:50 ",
         "Group 3",
         "Pocitos",
         "Montevideo ",
         "Romania",
         "3",
         "1",
         "Peru",
         " ",
         "2549.0",
         "1",
         "0",
         "WARNKEN Alberto (CHI)",
         "LANGENUS Jean (BEL)",
         "MATEUCCI Francisco (URU)",
         "201",
         "1098",
         "ROU",
         "PER"
        ],
        [
         "4",
         "1930",
         "15 Jul 1930 - 16:00 ",
         "Group 1",
         "Parque Central",
         "Montevideo ",
         "Argentina",
         "1",
         "0",
         "France",
         " ",
         "23409.0",
         "0",
         "0",
         "REGO Gilberto (BRA)",
         "SAUCEDO Ulises (BOL)",
         "RADULESCU Constantin (ROU)",
         "201",
         "1085",
         "ARG",
         "FRA"
        ]
       ],
       "shape": {
        "columns": 20,
        "rows": 5
       }
      },
      "text/html": [
       "<div>\n",
       "<style scoped>\n",
       "    .dataframe tbody tr th:only-of-type {\n",
       "        vertical-align: middle;\n",
       "    }\n",
       "\n",
       "    .dataframe tbody tr th {\n",
       "        vertical-align: top;\n",
       "    }\n",
       "\n",
       "    .dataframe thead th {\n",
       "        text-align: right;\n",
       "    }\n",
       "</style>\n",
       "<table border=\"1\" class=\"dataframe\">\n",
       "  <thead>\n",
       "    <tr style=\"text-align: right;\">\n",
       "      <th></th>\n",
       "      <th>Year</th>\n",
       "      <th>Datetime</th>\n",
       "      <th>Stage</th>\n",
       "      <th>Stadium</th>\n",
       "      <th>City</th>\n",
       "      <th>Home Team Name</th>\n",
       "      <th>Home Team Goals</th>\n",
       "      <th>Away Team Goals</th>\n",
       "      <th>Away Team Name</th>\n",
       "      <th>Win conditions</th>\n",
       "      <th>Attendance</th>\n",
       "      <th>Half-time Home Goals</th>\n",
       "      <th>Half-time Away Goals</th>\n",
       "      <th>Referee</th>\n",
       "      <th>Assistant 1</th>\n",
       "      <th>Assistant 2</th>\n",
       "      <th>RoundID</th>\n",
       "      <th>MatchID</th>\n",
       "      <th>Home Team Initials</th>\n",
       "      <th>Away Team Initials</th>\n",
       "    </tr>\n",
       "  </thead>\n",
       "  <tbody>\n",
       "    <tr>\n",
       "      <th>0</th>\n",
       "      <td>1930</td>\n",
       "      <td>13 Jul 1930 - 15:00</td>\n",
       "      <td>Group 1</td>\n",
       "      <td>Pocitos</td>\n",
       "      <td>Montevideo</td>\n",
       "      <td>France</td>\n",
       "      <td>4</td>\n",
       "      <td>1</td>\n",
       "      <td>Mexico</td>\n",
       "      <td></td>\n",
       "      <td>4444.0</td>\n",
       "      <td>3</td>\n",
       "      <td>0</td>\n",
       "      <td>LOMBARDI Domingo (URU)</td>\n",
       "      <td>CRISTOPHE Henry (BEL)</td>\n",
       "      <td>REGO Gilberto (BRA)</td>\n",
       "      <td>201</td>\n",
       "      <td>1096</td>\n",
       "      <td>FRA</td>\n",
       "      <td>MEX</td>\n",
       "    </tr>\n",
       "    <tr>\n",
       "      <th>1</th>\n",
       "      <td>1930</td>\n",
       "      <td>13 Jul 1930 - 15:00</td>\n",
       "      <td>Group 4</td>\n",
       "      <td>Parque Central</td>\n",
       "      <td>Montevideo</td>\n",
       "      <td>USA</td>\n",
       "      <td>3</td>\n",
       "      <td>0</td>\n",
       "      <td>Belgium</td>\n",
       "      <td></td>\n",
       "      <td>18346.0</td>\n",
       "      <td>2</td>\n",
       "      <td>0</td>\n",
       "      <td>MACIAS Jose (ARG)</td>\n",
       "      <td>MATEUCCI Francisco (URU)</td>\n",
       "      <td>WARNKEN Alberto (CHI)</td>\n",
       "      <td>201</td>\n",
       "      <td>1090</td>\n",
       "      <td>USA</td>\n",
       "      <td>BEL</td>\n",
       "    </tr>\n",
       "    <tr>\n",
       "      <th>2</th>\n",
       "      <td>1930</td>\n",
       "      <td>14 Jul 1930 - 12:45</td>\n",
       "      <td>Group 2</td>\n",
       "      <td>Parque Central</td>\n",
       "      <td>Montevideo</td>\n",
       "      <td>Yugoslavia</td>\n",
       "      <td>2</td>\n",
       "      <td>1</td>\n",
       "      <td>Brazil</td>\n",
       "      <td></td>\n",
       "      <td>24059.0</td>\n",
       "      <td>2</td>\n",
       "      <td>0</td>\n",
       "      <td>TEJADA Anibal (URU)</td>\n",
       "      <td>VALLARINO Ricardo (URU)</td>\n",
       "      <td>BALWAY Thomas (FRA)</td>\n",
       "      <td>201</td>\n",
       "      <td>1093</td>\n",
       "      <td>YUG</td>\n",
       "      <td>BRA</td>\n",
       "    </tr>\n",
       "    <tr>\n",
       "      <th>3</th>\n",
       "      <td>1930</td>\n",
       "      <td>14 Jul 1930 - 14:50</td>\n",
       "      <td>Group 3</td>\n",
       "      <td>Pocitos</td>\n",
       "      <td>Montevideo</td>\n",
       "      <td>Romania</td>\n",
       "      <td>3</td>\n",
       "      <td>1</td>\n",
       "      <td>Peru</td>\n",
       "      <td></td>\n",
       "      <td>2549.0</td>\n",
       "      <td>1</td>\n",
       "      <td>0</td>\n",
       "      <td>WARNKEN Alberto (CHI)</td>\n",
       "      <td>LANGENUS Jean (BEL)</td>\n",
       "      <td>MATEUCCI Francisco (URU)</td>\n",
       "      <td>201</td>\n",
       "      <td>1098</td>\n",
       "      <td>ROU</td>\n",
       "      <td>PER</td>\n",
       "    </tr>\n",
       "    <tr>\n",
       "      <th>4</th>\n",
       "      <td>1930</td>\n",
       "      <td>15 Jul 1930 - 16:00</td>\n",
       "      <td>Group 1</td>\n",
       "      <td>Parque Central</td>\n",
       "      <td>Montevideo</td>\n",
       "      <td>Argentina</td>\n",
       "      <td>1</td>\n",
       "      <td>0</td>\n",
       "      <td>France</td>\n",
       "      <td></td>\n",
       "      <td>23409.0</td>\n",
       "      <td>0</td>\n",
       "      <td>0</td>\n",
       "      <td>REGO Gilberto (BRA)</td>\n",
       "      <td>SAUCEDO Ulises (BOL)</td>\n",
       "      <td>RADULESCU Constantin (ROU)</td>\n",
       "      <td>201</td>\n",
       "      <td>1085</td>\n",
       "      <td>ARG</td>\n",
       "      <td>FRA</td>\n",
       "    </tr>\n",
       "  </tbody>\n",
       "</table>\n",
       "</div>"
      ],
      "text/plain": [
       "   Year              Datetime    Stage         Stadium         City  \\\n",
       "0  1930  13 Jul 1930 - 15:00   Group 1         Pocitos  Montevideo    \n",
       "1  1930  13 Jul 1930 - 15:00   Group 4  Parque Central  Montevideo    \n",
       "2  1930  14 Jul 1930 - 12:45   Group 2  Parque Central  Montevideo    \n",
       "3  1930  14 Jul 1930 - 14:50   Group 3         Pocitos  Montevideo    \n",
       "4  1930  15 Jul 1930 - 16:00   Group 1  Parque Central  Montevideo    \n",
       "\n",
       "  Home Team Name  Home Team Goals  Away Team Goals Away Team Name  \\\n",
       "0         France                4                1         Mexico   \n",
       "1            USA                3                0        Belgium   \n",
       "2     Yugoslavia                2                1         Brazil   \n",
       "3        Romania                3                1           Peru   \n",
       "4      Argentina                1                0         France   \n",
       "\n",
       "  Win conditions  Attendance  Half-time Home Goals  Half-time Away Goals  \\\n",
       "0                     4444.0                     3                     0   \n",
       "1                    18346.0                     2                     0   \n",
       "2                    24059.0                     2                     0   \n",
       "3                     2549.0                     1                     0   \n",
       "4                    23409.0                     0                     0   \n",
       "\n",
       "                  Referee               Assistant 1  \\\n",
       "0  LOMBARDI Domingo (URU)     CRISTOPHE Henry (BEL)   \n",
       "1       MACIAS Jose (ARG)  MATEUCCI Francisco (URU)   \n",
       "2     TEJADA Anibal (URU)   VALLARINO Ricardo (URU)   \n",
       "3   WARNKEN Alberto (CHI)       LANGENUS Jean (BEL)   \n",
       "4     REGO Gilberto (BRA)      SAUCEDO Ulises (BOL)   \n",
       "\n",
       "                  Assistant 2  RoundID  MatchID Home Team Initials  \\\n",
       "0         REGO Gilberto (BRA)      201     1096                FRA   \n",
       "1       WARNKEN Alberto (CHI)      201     1090                USA   \n",
       "2         BALWAY Thomas (FRA)      201     1093                YUG   \n",
       "3    MATEUCCI Francisco (URU)      201     1098                ROU   \n",
       "4  RADULESCU Constantin (ROU)      201     1085                ARG   \n",
       "\n",
       "  Away Team Initials  \n",
       "0                MEX  \n",
       "1                BEL  \n",
       "2                BRA  \n",
       "3                PER  \n",
       "4                FRA  "
      ]
     },
     "execution_count": 16,
     "metadata": {},
     "output_type": "execute_result"
    }
   ],
   "source": [
    "import pandas as pd\n",
    "\n",
    "# Load the dataset\n",
    "df = pd.read_csv('WorldCupMatches.csv')\n",
    "\n",
    "# Display the first few rows\n",
    "df.head()"
   ]
  },
  {
   "cell_type": "markdown",
   "metadata": {},
   "source": [
    "## Basic Data Inspection\n",
    "We'll look at the last rows, data info, shape, and column names."
   ]
  },
  {
   "cell_type": "code",
   "execution_count": 17,
   "metadata": {},
   "outputs": [
    {
     "data": {
      "application/vnd.microsoft.datawrangler.viewer.v0+json": {
       "columns": [
        {
         "name": "index",
         "rawType": "int64",
         "type": "integer"
        },
        {
         "name": "Year",
         "rawType": "int64",
         "type": "integer"
        },
        {
         "name": "Datetime",
         "rawType": "object",
         "type": "string"
        },
        {
         "name": "Stage",
         "rawType": "object",
         "type": "string"
        },
        {
         "name": "Stadium",
         "rawType": "object",
         "type": "string"
        },
        {
         "name": "City",
         "rawType": "object",
         "type": "string"
        },
        {
         "name": "Home Team Name",
         "rawType": "object",
         "type": "string"
        },
        {
         "name": "Home Team Goals",
         "rawType": "int64",
         "type": "integer"
        },
        {
         "name": "Away Team Goals",
         "rawType": "int64",
         "type": "integer"
        },
        {
         "name": "Away Team Name",
         "rawType": "object",
         "type": "string"
        },
        {
         "name": "Win conditions",
         "rawType": "object",
         "type": "string"
        },
        {
         "name": "Attendance",
         "rawType": "float64",
         "type": "float"
        },
        {
         "name": "Half-time Home Goals",
         "rawType": "int64",
         "type": "integer"
        },
        {
         "name": "Half-time Away Goals",
         "rawType": "int64",
         "type": "integer"
        },
        {
         "name": "Referee",
         "rawType": "object",
         "type": "string"
        },
        {
         "name": "Assistant 1",
         "rawType": "object",
         "type": "string"
        },
        {
         "name": "Assistant 2",
         "rawType": "object",
         "type": "string"
        },
        {
         "name": "RoundID",
         "rawType": "int64",
         "type": "integer"
        },
        {
         "name": "MatchID",
         "rawType": "int64",
         "type": "integer"
        },
        {
         "name": "Home Team Initials",
         "rawType": "object",
         "type": "string"
        },
        {
         "name": "Away Team Initials",
         "rawType": "object",
         "type": "string"
        }
       ],
       "conversionMethod": "pd.DataFrame",
       "ref": "7ae029f0-6b4f-438b-835c-d6594e2db2d9",
       "rows": [
        [
         "847",
         "2014",
         "05 Jul 2014 - 17:00 ",
         "Quarter-finals",
         "Arena Fonte Nova",
         "Salvador ",
         "Netherlands",
         "0",
         "0",
         "Costa Rica",
         "Netherlands win on penalties (4 - 3) ",
         "51179.0",
         "0",
         "0",
         "Ravshan IRMATOV (UZB)",
         "RASULOV Abduxamidullo (UZB)",
         "KOCHKAROV Bakhadyr (KGZ)",
         "255953",
         "300186488",
         "NED",
         "CRC"
        ],
        [
         "848",
         "2014",
         "08 Jul 2014 - 17:00 ",
         "Semi-finals",
         "Estadio Mineirao",
         "Belo Horizonte ",
         "Brazil",
         "1",
         "7",
         "Germany",
         " ",
         "58141.0",
         "0",
         "5",
         "RODRIGUEZ Marco (MEX)",
         "TORRENTERA Marvin (MEX)",
         "QUINTERO Marcos (MEX)",
         "255955",
         "300186474",
         "BRA",
         "GER"
        ],
        [
         "849",
         "2014",
         "09 Jul 2014 - 17:00 ",
         "Semi-finals",
         "Arena de Sao Paulo",
         "Sao Paulo ",
         "Netherlands",
         "0",
         "0",
         "Argentina",
         "Argentina win on penalties (2 - 4) ",
         "63267.0",
         "0",
         "0",
         "C�neyt �AKIR (TUR)",
         "DURAN Bahattin (TUR)",
         "ONGUN Tarik (TUR)",
         "255955",
         "300186490",
         "NED",
         "ARG"
        ],
        [
         "850",
         "2014",
         "12 Jul 2014 - 17:00 ",
         "Play-off for third place",
         "Estadio Nacional",
         "Brasilia ",
         "Brazil",
         "0",
         "3",
         "Netherlands",
         " ",
         "68034.0",
         "0",
         "2",
         "HAIMOUDI Djamel (ALG)",
         "ACHIK Redouane (MAR)",
         "ETCHIALI Abdelhak (ALG)",
         "255957",
         "300186502",
         "BRA",
         "NED"
        ],
        [
         "851",
         "2014",
         "13 Jul 2014 - 16:00 ",
         "Final",
         "Estadio do Maracana",
         "Rio De Janeiro ",
         "Germany",
         "1",
         "0",
         "Argentina",
         "Germany win after extra time ",
         "74738.0",
         "0",
         "0",
         "Nicola RIZZOLI (ITA)",
         "Renato FAVERANI (ITA)",
         "Andrea STEFANI (ITA)",
         "255959",
         "300186501",
         "GER",
         "ARG"
        ]
       ],
       "shape": {
        "columns": 20,
        "rows": 5
       }
      },
      "text/html": [
       "<div>\n",
       "<style scoped>\n",
       "    .dataframe tbody tr th:only-of-type {\n",
       "        vertical-align: middle;\n",
       "    }\n",
       "\n",
       "    .dataframe tbody tr th {\n",
       "        vertical-align: top;\n",
       "    }\n",
       "\n",
       "    .dataframe thead th {\n",
       "        text-align: right;\n",
       "    }\n",
       "</style>\n",
       "<table border=\"1\" class=\"dataframe\">\n",
       "  <thead>\n",
       "    <tr style=\"text-align: right;\">\n",
       "      <th></th>\n",
       "      <th>Year</th>\n",
       "      <th>Datetime</th>\n",
       "      <th>Stage</th>\n",
       "      <th>Stadium</th>\n",
       "      <th>City</th>\n",
       "      <th>Home Team Name</th>\n",
       "      <th>Home Team Goals</th>\n",
       "      <th>Away Team Goals</th>\n",
       "      <th>Away Team Name</th>\n",
       "      <th>Win conditions</th>\n",
       "      <th>Attendance</th>\n",
       "      <th>Half-time Home Goals</th>\n",
       "      <th>Half-time Away Goals</th>\n",
       "      <th>Referee</th>\n",
       "      <th>Assistant 1</th>\n",
       "      <th>Assistant 2</th>\n",
       "      <th>RoundID</th>\n",
       "      <th>MatchID</th>\n",
       "      <th>Home Team Initials</th>\n",
       "      <th>Away Team Initials</th>\n",
       "    </tr>\n",
       "  </thead>\n",
       "  <tbody>\n",
       "    <tr>\n",
       "      <th>847</th>\n",
       "      <td>2014</td>\n",
       "      <td>05 Jul 2014 - 17:00</td>\n",
       "      <td>Quarter-finals</td>\n",
       "      <td>Arena Fonte Nova</td>\n",
       "      <td>Salvador</td>\n",
       "      <td>Netherlands</td>\n",
       "      <td>0</td>\n",
       "      <td>0</td>\n",
       "      <td>Costa Rica</td>\n",
       "      <td>Netherlands win on penalties (4 - 3)</td>\n",
       "      <td>51179.0</td>\n",
       "      <td>0</td>\n",
       "      <td>0</td>\n",
       "      <td>Ravshan IRMATOV (UZB)</td>\n",
       "      <td>RASULOV Abduxamidullo (UZB)</td>\n",
       "      <td>KOCHKAROV Bakhadyr (KGZ)</td>\n",
       "      <td>255953</td>\n",
       "      <td>300186488</td>\n",
       "      <td>NED</td>\n",
       "      <td>CRC</td>\n",
       "    </tr>\n",
       "    <tr>\n",
       "      <th>848</th>\n",
       "      <td>2014</td>\n",
       "      <td>08 Jul 2014 - 17:00</td>\n",
       "      <td>Semi-finals</td>\n",
       "      <td>Estadio Mineirao</td>\n",
       "      <td>Belo Horizonte</td>\n",
       "      <td>Brazil</td>\n",
       "      <td>1</td>\n",
       "      <td>7</td>\n",
       "      <td>Germany</td>\n",
       "      <td></td>\n",
       "      <td>58141.0</td>\n",
       "      <td>0</td>\n",
       "      <td>5</td>\n",
       "      <td>RODRIGUEZ Marco (MEX)</td>\n",
       "      <td>TORRENTERA Marvin (MEX)</td>\n",
       "      <td>QUINTERO Marcos (MEX)</td>\n",
       "      <td>255955</td>\n",
       "      <td>300186474</td>\n",
       "      <td>BRA</td>\n",
       "      <td>GER</td>\n",
       "    </tr>\n",
       "    <tr>\n",
       "      <th>849</th>\n",
       "      <td>2014</td>\n",
       "      <td>09 Jul 2014 - 17:00</td>\n",
       "      <td>Semi-finals</td>\n",
       "      <td>Arena de Sao Paulo</td>\n",
       "      <td>Sao Paulo</td>\n",
       "      <td>Netherlands</td>\n",
       "      <td>0</td>\n",
       "      <td>0</td>\n",
       "      <td>Argentina</td>\n",
       "      <td>Argentina win on penalties (2 - 4)</td>\n",
       "      <td>63267.0</td>\n",
       "      <td>0</td>\n",
       "      <td>0</td>\n",
       "      <td>C�neyt �AKIR (TUR)</td>\n",
       "      <td>DURAN Bahattin (TUR)</td>\n",
       "      <td>ONGUN Tarik (TUR)</td>\n",
       "      <td>255955</td>\n",
       "      <td>300186490</td>\n",
       "      <td>NED</td>\n",
       "      <td>ARG</td>\n",
       "    </tr>\n",
       "    <tr>\n",
       "      <th>850</th>\n",
       "      <td>2014</td>\n",
       "      <td>12 Jul 2014 - 17:00</td>\n",
       "      <td>Play-off for third place</td>\n",
       "      <td>Estadio Nacional</td>\n",
       "      <td>Brasilia</td>\n",
       "      <td>Brazil</td>\n",
       "      <td>0</td>\n",
       "      <td>3</td>\n",
       "      <td>Netherlands</td>\n",
       "      <td></td>\n",
       "      <td>68034.0</td>\n",
       "      <td>0</td>\n",
       "      <td>2</td>\n",
       "      <td>HAIMOUDI Djamel (ALG)</td>\n",
       "      <td>ACHIK Redouane (MAR)</td>\n",
       "      <td>ETCHIALI Abdelhak (ALG)</td>\n",
       "      <td>255957</td>\n",
       "      <td>300186502</td>\n",
       "      <td>BRA</td>\n",
       "      <td>NED</td>\n",
       "    </tr>\n",
       "    <tr>\n",
       "      <th>851</th>\n",
       "      <td>2014</td>\n",
       "      <td>13 Jul 2014 - 16:00</td>\n",
       "      <td>Final</td>\n",
       "      <td>Estadio do Maracana</td>\n",
       "      <td>Rio De Janeiro</td>\n",
       "      <td>Germany</td>\n",
       "      <td>1</td>\n",
       "      <td>0</td>\n",
       "      <td>Argentina</td>\n",
       "      <td>Germany win after extra time</td>\n",
       "      <td>74738.0</td>\n",
       "      <td>0</td>\n",
       "      <td>0</td>\n",
       "      <td>Nicola RIZZOLI (ITA)</td>\n",
       "      <td>Renato FAVERANI (ITA)</td>\n",
       "      <td>Andrea STEFANI (ITA)</td>\n",
       "      <td>255959</td>\n",
       "      <td>300186501</td>\n",
       "      <td>GER</td>\n",
       "      <td>ARG</td>\n",
       "    </tr>\n",
       "  </tbody>\n",
       "</table>\n",
       "</div>"
      ],
      "text/plain": [
       "     Year              Datetime                     Stage  \\\n",
       "847  2014  05 Jul 2014 - 17:00             Quarter-finals   \n",
       "848  2014  08 Jul 2014 - 17:00                Semi-finals   \n",
       "849  2014  09 Jul 2014 - 17:00                Semi-finals   \n",
       "850  2014  12 Jul 2014 - 17:00   Play-off for third place   \n",
       "851  2014  13 Jul 2014 - 16:00                      Final   \n",
       "\n",
       "                 Stadium             City Home Team Name  Home Team Goals  \\\n",
       "847     Arena Fonte Nova        Salvador     Netherlands                0   \n",
       "848     Estadio Mineirao  Belo Horizonte          Brazil                1   \n",
       "849   Arena de Sao Paulo       Sao Paulo     Netherlands                0   \n",
       "850     Estadio Nacional        Brasilia          Brazil                0   \n",
       "851  Estadio do Maracana  Rio De Janeiro         Germany                1   \n",
       "\n",
       "     Away Team Goals Away Team Name                         Win conditions  \\\n",
       "847                0     Costa Rica  Netherlands win on penalties (4 - 3)    \n",
       "848                7        Germany                                          \n",
       "849                0      Argentina    Argentina win on penalties (2 - 4)    \n",
       "850                3    Netherlands                                          \n",
       "851                0      Argentina          Germany win after extra time    \n",
       "\n",
       "     Attendance  Half-time Home Goals  Half-time Away Goals  \\\n",
       "847     51179.0                     0                     0   \n",
       "848     58141.0                     0                     5   \n",
       "849     63267.0                     0                     0   \n",
       "850     68034.0                     0                     2   \n",
       "851     74738.0                     0                     0   \n",
       "\n",
       "                   Referee                  Assistant 1  \\\n",
       "847  Ravshan IRMATOV (UZB)  RASULOV Abduxamidullo (UZB)   \n",
       "848  RODRIGUEZ Marco (MEX)      TORRENTERA Marvin (MEX)   \n",
       "849     C�neyt �AKIR (TUR)         DURAN Bahattin (TUR)   \n",
       "850  HAIMOUDI Djamel (ALG)         ACHIK Redouane (MAR)   \n",
       "851   Nicola RIZZOLI (ITA)        Renato FAVERANI (ITA)   \n",
       "\n",
       "                  Assistant 2  RoundID    MatchID Home Team Initials  \\\n",
       "847  KOCHKAROV Bakhadyr (KGZ)   255953  300186488                NED   \n",
       "848     QUINTERO Marcos (MEX)   255955  300186474                BRA   \n",
       "849         ONGUN Tarik (TUR)   255955  300186490                NED   \n",
       "850   ETCHIALI Abdelhak (ALG)   255957  300186502                BRA   \n",
       "851      Andrea STEFANI (ITA)   255959  300186501                GER   \n",
       "\n",
       "    Away Team Initials  \n",
       "847                CRC  \n",
       "848                GER  \n",
       "849                ARG  \n",
       "850                NED  \n",
       "851                ARG  "
      ]
     },
     "execution_count": 17,
     "metadata": {},
     "output_type": "execute_result"
    }
   ],
   "source": [
    "# Display last rows\n",
    "df.tail()"
   ]
  },
  {
   "cell_type": "code",
   "execution_count": 18,
   "metadata": {},
   "outputs": [
    {
     "name": "stdout",
     "output_type": "stream",
     "text": [
      "<class 'pandas.core.frame.DataFrame'>\n",
      "RangeIndex: 852 entries, 0 to 851\n",
      "Data columns (total 20 columns):\n",
      " #   Column                Non-Null Count  Dtype  \n",
      "---  ------                --------------  -----  \n",
      " 0   Year                  852 non-null    int64  \n",
      " 1   Datetime              852 non-null    object \n",
      " 2   Stage                 852 non-null    object \n",
      " 3   Stadium               852 non-null    object \n",
      " 4   City                  852 non-null    object \n",
      " 5   Home Team Name        852 non-null    object \n",
      " 6   Home Team Goals       852 non-null    int64  \n",
      " 7   Away Team Goals       852 non-null    int64  \n",
      " 8   Away Team Name        852 non-null    object \n",
      " 9   Win conditions        852 non-null    object \n",
      " 10  Attendance            850 non-null    float64\n",
      " 11  Half-time Home Goals  852 non-null    int64  \n",
      " 12  Half-time Away Goals  852 non-null    int64  \n",
      " 13  Referee               852 non-null    object \n",
      " 14  Assistant 1           852 non-null    object \n",
      " 15  Assistant 2           852 non-null    object \n",
      " 16  RoundID               852 non-null    int64  \n",
      " 17  MatchID               852 non-null    int64  \n",
      " 18  Home Team Initials    852 non-null    object \n",
      " 19  Away Team Initials    852 non-null    object \n",
      "dtypes: float64(1), int64(7), object(12)\n",
      "memory usage: 133.3+ KB\n"
     ]
    }
   ],
   "source": [
    "# Get a concise summary of the data\n",
    "df.info()\n",
    "\n",
    "#df.describe()"
   ]
  },
  {
   "cell_type": "code",
   "execution_count": 19,
   "metadata": {},
   "outputs": [
    {
     "data": {
      "text/plain": [
       "(852, 20)"
      ]
     },
     "execution_count": 19,
     "metadata": {},
     "output_type": "execute_result"
    }
   ],
   "source": [
    "# Get the shape (rows, columns)\n",
    "df.shape\n"
   ]
  },
  {
   "cell_type": "code",
   "execution_count": 20,
   "metadata": {},
   "outputs": [
    {
     "data": {
      "text/plain": [
       "Index(['Year', 'Datetime', 'Stage', 'Stadium', 'City', 'Home Team Name',\n",
       "       'Home Team Goals', 'Away Team Goals', 'Away Team Name',\n",
       "       'Win conditions', 'Attendance', 'Half-time Home Goals',\n",
       "       'Half-time Away Goals', 'Referee', 'Assistant 1', 'Assistant 2',\n",
       "       'RoundID', 'MatchID', 'Home Team Initials', 'Away Team Initials'],\n",
       "      dtype='object')"
      ]
     },
     "execution_count": 20,
     "metadata": {},
     "output_type": "execute_result"
    }
   ],
   "source": [
    "# Get column names\n",
    "df.columns"
   ]
  },
  {
   "cell_type": "markdown",
   "metadata": {},
   "source": [
    "## Selecting Rows and Columns\n",
    "Use `.iloc` and `.loc` for slicing and indexing."
   ]
  },
  {
   "cell_type": "code",
   "execution_count": 21,
   "metadata": {},
   "outputs": [
    {
     "data": {
      "application/vnd.microsoft.datawrangler.viewer.v0+json": {
       "columns": [
        {
         "name": "index",
         "rawType": "int64",
         "type": "integer"
        },
        {
         "name": "Year",
         "rawType": "int64",
         "type": "integer"
        },
        {
         "name": "Datetime",
         "rawType": "object",
         "type": "string"
        },
        {
         "name": "Stage",
         "rawType": "object",
         "type": "string"
        },
        {
         "name": "Stadium",
         "rawType": "object",
         "type": "string"
        },
        {
         "name": "City",
         "rawType": "object",
         "type": "string"
        },
        {
         "name": "Home Team Name",
         "rawType": "object",
         "type": "string"
        },
        {
         "name": "Home Team Goals",
         "rawType": "int64",
         "type": "integer"
        },
        {
         "name": "Away Team Goals",
         "rawType": "int64",
         "type": "integer"
        },
        {
         "name": "Away Team Name",
         "rawType": "object",
         "type": "string"
        },
        {
         "name": "Win conditions",
         "rawType": "object",
         "type": "string"
        },
        {
         "name": "Attendance",
         "rawType": "float64",
         "type": "float"
        },
        {
         "name": "Half-time Home Goals",
         "rawType": "int64",
         "type": "integer"
        },
        {
         "name": "Half-time Away Goals",
         "rawType": "int64",
         "type": "integer"
        },
        {
         "name": "Referee",
         "rawType": "object",
         "type": "string"
        },
        {
         "name": "Assistant 1",
         "rawType": "object",
         "type": "string"
        },
        {
         "name": "Assistant 2",
         "rawType": "object",
         "type": "string"
        },
        {
         "name": "RoundID",
         "rawType": "int64",
         "type": "integer"
        },
        {
         "name": "MatchID",
         "rawType": "int64",
         "type": "integer"
        },
        {
         "name": "Home Team Initials",
         "rawType": "object",
         "type": "string"
        },
        {
         "name": "Away Team Initials",
         "rawType": "object",
         "type": "string"
        }
       ],
       "conversionMethod": "pd.DataFrame",
       "ref": "f56811c4-4ab0-4636-ae26-39440f42bdc7",
       "rows": [
        [
         "3",
         "1930",
         "14 Jul 1930 - 14:50 ",
         "Group 3",
         "Pocitos",
         "Montevideo ",
         "Romania",
         "3",
         "1",
         "Peru",
         " ",
         "2549.0",
         "1",
         "0",
         "WARNKEN Alberto (CHI)",
         "LANGENUS Jean (BEL)",
         "MATEUCCI Francisco (URU)",
         "201",
         "1098",
         "ROU",
         "PER"
        ],
        [
         "4",
         "1930",
         "15 Jul 1930 - 16:00 ",
         "Group 1",
         "Parque Central",
         "Montevideo ",
         "Argentina",
         "1",
         "0",
         "France",
         " ",
         "23409.0",
         "0",
         "0",
         "REGO Gilberto (BRA)",
         "SAUCEDO Ulises (BOL)",
         "RADULESCU Constantin (ROU)",
         "201",
         "1085",
         "ARG",
         "FRA"
        ],
        [
         "5",
         "1930",
         "16 Jul 1930 - 14:45 ",
         "Group 1",
         "Parque Central",
         "Montevideo ",
         "Chile",
         "3",
         "0",
         "Mexico",
         " ",
         "9249.0",
         "1",
         "0",
         "CRISTOPHE Henry (BEL)",
         "APHESTEGUY Martin (URU)",
         "LANGENUS Jean (BEL)",
         "201",
         "1095",
         "CHI",
         "MEX"
        ]
       ],
       "shape": {
        "columns": 20,
        "rows": 3
       }
      },
      "text/html": [
       "<div>\n",
       "<style scoped>\n",
       "    .dataframe tbody tr th:only-of-type {\n",
       "        vertical-align: middle;\n",
       "    }\n",
       "\n",
       "    .dataframe tbody tr th {\n",
       "        vertical-align: top;\n",
       "    }\n",
       "\n",
       "    .dataframe thead th {\n",
       "        text-align: right;\n",
       "    }\n",
       "</style>\n",
       "<table border=\"1\" class=\"dataframe\">\n",
       "  <thead>\n",
       "    <tr style=\"text-align: right;\">\n",
       "      <th></th>\n",
       "      <th>Year</th>\n",
       "      <th>Datetime</th>\n",
       "      <th>Stage</th>\n",
       "      <th>Stadium</th>\n",
       "      <th>City</th>\n",
       "      <th>Home Team Name</th>\n",
       "      <th>Home Team Goals</th>\n",
       "      <th>Away Team Goals</th>\n",
       "      <th>Away Team Name</th>\n",
       "      <th>Win conditions</th>\n",
       "      <th>Attendance</th>\n",
       "      <th>Half-time Home Goals</th>\n",
       "      <th>Half-time Away Goals</th>\n",
       "      <th>Referee</th>\n",
       "      <th>Assistant 1</th>\n",
       "      <th>Assistant 2</th>\n",
       "      <th>RoundID</th>\n",
       "      <th>MatchID</th>\n",
       "      <th>Home Team Initials</th>\n",
       "      <th>Away Team Initials</th>\n",
       "    </tr>\n",
       "  </thead>\n",
       "  <tbody>\n",
       "    <tr>\n",
       "      <th>3</th>\n",
       "      <td>1930</td>\n",
       "      <td>14 Jul 1930 - 14:50</td>\n",
       "      <td>Group 3</td>\n",
       "      <td>Pocitos</td>\n",
       "      <td>Montevideo</td>\n",
       "      <td>Romania</td>\n",
       "      <td>3</td>\n",
       "      <td>1</td>\n",
       "      <td>Peru</td>\n",
       "      <td></td>\n",
       "      <td>2549.0</td>\n",
       "      <td>1</td>\n",
       "      <td>0</td>\n",
       "      <td>WARNKEN Alberto (CHI)</td>\n",
       "      <td>LANGENUS Jean (BEL)</td>\n",
       "      <td>MATEUCCI Francisco (URU)</td>\n",
       "      <td>201</td>\n",
       "      <td>1098</td>\n",
       "      <td>ROU</td>\n",
       "      <td>PER</td>\n",
       "    </tr>\n",
       "    <tr>\n",
       "      <th>4</th>\n",
       "      <td>1930</td>\n",
       "      <td>15 Jul 1930 - 16:00</td>\n",
       "      <td>Group 1</td>\n",
       "      <td>Parque Central</td>\n",
       "      <td>Montevideo</td>\n",
       "      <td>Argentina</td>\n",
       "      <td>1</td>\n",
       "      <td>0</td>\n",
       "      <td>France</td>\n",
       "      <td></td>\n",
       "      <td>23409.0</td>\n",
       "      <td>0</td>\n",
       "      <td>0</td>\n",
       "      <td>REGO Gilberto (BRA)</td>\n",
       "      <td>SAUCEDO Ulises (BOL)</td>\n",
       "      <td>RADULESCU Constantin (ROU)</td>\n",
       "      <td>201</td>\n",
       "      <td>1085</td>\n",
       "      <td>ARG</td>\n",
       "      <td>FRA</td>\n",
       "    </tr>\n",
       "    <tr>\n",
       "      <th>5</th>\n",
       "      <td>1930</td>\n",
       "      <td>16 Jul 1930 - 14:45</td>\n",
       "      <td>Group 1</td>\n",
       "      <td>Parque Central</td>\n",
       "      <td>Montevideo</td>\n",
       "      <td>Chile</td>\n",
       "      <td>3</td>\n",
       "      <td>0</td>\n",
       "      <td>Mexico</td>\n",
       "      <td></td>\n",
       "      <td>9249.0</td>\n",
       "      <td>1</td>\n",
       "      <td>0</td>\n",
       "      <td>CRISTOPHE Henry (BEL)</td>\n",
       "      <td>APHESTEGUY Martin (URU)</td>\n",
       "      <td>LANGENUS Jean (BEL)</td>\n",
       "      <td>201</td>\n",
       "      <td>1095</td>\n",
       "      <td>CHI</td>\n",
       "      <td>MEX</td>\n",
       "    </tr>\n",
       "  </tbody>\n",
       "</table>\n",
       "</div>"
      ],
      "text/plain": [
       "   Year              Datetime    Stage         Stadium         City  \\\n",
       "3  1930  14 Jul 1930 - 14:50   Group 3         Pocitos  Montevideo    \n",
       "4  1930  15 Jul 1930 - 16:00   Group 1  Parque Central  Montevideo    \n",
       "5  1930  16 Jul 1930 - 14:45   Group 1  Parque Central  Montevideo    \n",
       "\n",
       "  Home Team Name  Home Team Goals  Away Team Goals Away Team Name  \\\n",
       "3        Romania                3                1           Peru   \n",
       "4      Argentina                1                0         France   \n",
       "5          Chile                3                0         Mexico   \n",
       "\n",
       "  Win conditions  Attendance  Half-time Home Goals  Half-time Away Goals  \\\n",
       "3                     2549.0                     1                     0   \n",
       "4                    23409.0                     0                     0   \n",
       "5                     9249.0                     1                     0   \n",
       "\n",
       "                 Referee              Assistant 1                 Assistant 2  \\\n",
       "3  WARNKEN Alberto (CHI)      LANGENUS Jean (BEL)    MATEUCCI Francisco (URU)   \n",
       "4    REGO Gilberto (BRA)     SAUCEDO Ulises (BOL)  RADULESCU Constantin (ROU)   \n",
       "5  CRISTOPHE Henry (BEL)  APHESTEGUY Martin (URU)         LANGENUS Jean (BEL)   \n",
       "\n",
       "   RoundID  MatchID Home Team Initials Away Team Initials  \n",
       "3      201     1098                ROU                PER  \n",
       "4      201     1085                ARG                FRA  \n",
       "5      201     1095                CHI                MEX  "
      ]
     },
     "execution_count": 21,
     "metadata": {},
     "output_type": "execute_result"
    }
   ],
   "source": [
    "# Select rows by index from 3 to 5\n",
    "df.iloc[3:6]\n"
   ]
  },
  {
   "cell_type": "code",
   "execution_count": 22,
   "metadata": {},
   "outputs": [
    {
     "data": {
      "application/vnd.microsoft.datawrangler.viewer.v0+json": {
       "columns": [
        {
         "name": "index",
         "rawType": "int64",
         "type": "integer"
        },
        {
         "name": "Home Team Name",
         "rawType": "object",
         "type": "string"
        },
        {
         "name": "Away Team Name",
         "rawType": "object",
         "type": "string"
        }
       ],
       "conversionMethod": "pd.DataFrame",
       "ref": "a75dd5a7-e5d5-4cf8-a2b0-e651c1f3e397",
       "rows": [
        [
         "5",
         "Chile",
         "Mexico"
        ],
        [
         "6",
         "Yugoslavia",
         "Bolivia"
        ],
        [
         "7",
         "USA",
         "Paraguay"
        ],
        [
         "8",
         "Uruguay",
         "Peru"
        ],
        [
         "9",
         "Chile",
         "France"
        ]
       ],
       "shape": {
        "columns": 2,
        "rows": 5
       }
      },
      "text/html": [
       "<div>\n",
       "<style scoped>\n",
       "    .dataframe tbody tr th:only-of-type {\n",
       "        vertical-align: middle;\n",
       "    }\n",
       "\n",
       "    .dataframe tbody tr th {\n",
       "        vertical-align: top;\n",
       "    }\n",
       "\n",
       "    .dataframe thead th {\n",
       "        text-align: right;\n",
       "    }\n",
       "</style>\n",
       "<table border=\"1\" class=\"dataframe\">\n",
       "  <thead>\n",
       "    <tr style=\"text-align: right;\">\n",
       "      <th></th>\n",
       "      <th>Home Team Name</th>\n",
       "      <th>Away Team Name</th>\n",
       "    </tr>\n",
       "  </thead>\n",
       "  <tbody>\n",
       "    <tr>\n",
       "      <th>5</th>\n",
       "      <td>Chile</td>\n",
       "      <td>Mexico</td>\n",
       "    </tr>\n",
       "    <tr>\n",
       "      <th>6</th>\n",
       "      <td>Yugoslavia</td>\n",
       "      <td>Bolivia</td>\n",
       "    </tr>\n",
       "    <tr>\n",
       "      <th>7</th>\n",
       "      <td>USA</td>\n",
       "      <td>Paraguay</td>\n",
       "    </tr>\n",
       "    <tr>\n",
       "      <th>8</th>\n",
       "      <td>Uruguay</td>\n",
       "      <td>Peru</td>\n",
       "    </tr>\n",
       "    <tr>\n",
       "      <th>9</th>\n",
       "      <td>Chile</td>\n",
       "      <td>France</td>\n",
       "    </tr>\n",
       "  </tbody>\n",
       "</table>\n",
       "</div>"
      ],
      "text/plain": [
       "  Home Team Name Away Team Name\n",
       "5          Chile         Mexico\n",
       "6     Yugoslavia        Bolivia\n",
       "7            USA       Paraguay\n",
       "8        Uruguay           Peru\n",
       "9          Chile         France"
      ]
     },
     "execution_count": 22,
     "metadata": {},
     "output_type": "execute_result"
    }
   ],
   "source": [
    "# Select rows by index 5 to 9, only 'Home Team Name' and 'Away Team Name'\n",
    "# df.loc[row_selector, column_selector]\n",
    "df.loc[5:9, ['Home Team Name', 'Away Team Name']]"
   ]
  },
  {
   "cell_type": "markdown",
   "metadata": {},
   "source": [
    "# loc vs. iloc in Pandas (Very Simple Explanation)\n",
    "An index in Pandas is like a unique identifier for each row in a DataFrame. It helps you quickly locate and access data.\n",
    "When you create a DataFrame, Pandas automatically assigns an index (which is just row numbers starting from 0).\n",
    "\n",
    "**iloc** is integer position-based.\n",
    "- You use it when you want to select rows or columns by their position (like counting from 0, 1, 2, …).\n",
    "\n",
    "Example:\n",
    "- To get the first row (regardless of its label), you can use:\n",
    "- df.iloc[0]\n",
    "\n",
    "If you want to use a specific column (like \"Name\") as the index:\n",
    "**loc** is label-based.  \n",
    "You use it when you want to select rows or columns by their names (the labels in the index or column headers).\n",
    "\n",
    "**Example:**  \n",
    "- If your DataFrame has a row labeled \"Alice\", you can get that row with:\n",
    "- df.loc[\"Alice\"] OR \n",
    "- df_Alice = df[df['Name'] == \"Alice\"]\n"
   ]
  },
  {
   "cell_type": "markdown",
   "metadata": {},
   "source": [
    "## Boolean Masking\n",
    "Boolean masking is a powerful technique in Pandas that allows you to filter rows in a DataFrame based on True/False conditions.\n",
    "- Filter rows based on multiple conditions (&, |, ~ for AND, OR, NOT).\n"
   ]
  },
  {
   "cell_type": "code",
   "execution_count": 23,
   "metadata": {},
   "outputs": [
    {
     "data": {
      "text/plain": [
       "56    36502.0\n",
       "61     7903.0\n",
       "65    25811.0\n",
       "Name: Attendance, dtype: float64"
      ]
     },
     "execution_count": 23,
     "metadata": {},
     "output_type": "execute_result"
    }
   ],
   "source": [
    "# Example: Find all games in Group 3 for the 1950 World Cup\n",
    "df_1950_group3 = df[(df['Year'] == 1950) & (df['Stage'] == 'Group 3')]\n",
    "df_1950_group3\n",
    "\n",
    "# Display only the attendance column for these filtered rows\n",
    "df_1950_group3['Attendance']"
   ]
  },
  {
   "cell_type": "markdown",
   "metadata": {},
   "source": [
    "## Creating and Modifying Columns\n",
    "Here, we'll create a \"Total Goals\" column and show how to modify certain values."
   ]
  },
  {
   "cell_type": "code",
   "execution_count": 24,
   "metadata": {},
   "outputs": [
    {
     "data": {
      "application/vnd.microsoft.datawrangler.viewer.v0+json": {
       "columns": [
        {
         "name": "index",
         "rawType": "int64",
         "type": "integer"
        },
        {
         "name": "Home Team Name",
         "rawType": "object",
         "type": "string"
        },
        {
         "name": "Away Team Name",
         "rawType": "object",
         "type": "string"
        },
        {
         "name": "Total Goals",
         "rawType": "int64",
         "type": "integer"
        },
        {
         "name": "Half-time Goals",
         "rawType": "int64",
         "type": "integer"
        }
       ],
       "conversionMethod": "pd.DataFrame",
       "ref": "94831d2e-71c9-4695-9cc7-e8f2b83e3443",
       "rows": [
        [
         "0",
         "France",
         "Mexico",
         "5",
         "3"
        ],
        [
         "1",
         "USA",
         "Belgium",
         "3",
         "2"
        ],
        [
         "2",
         "Yugoslavia",
         "Brazil",
         "3",
         "2"
        ],
        [
         "3",
         "Romania",
         "Peru",
         "4",
         "1"
        ],
        [
         "4",
         "Argentina",
         "France",
         "1",
         "0"
        ]
       ],
       "shape": {
        "columns": 4,
        "rows": 5
       }
      },
      "text/html": [
       "<div>\n",
       "<style scoped>\n",
       "    .dataframe tbody tr th:only-of-type {\n",
       "        vertical-align: middle;\n",
       "    }\n",
       "\n",
       "    .dataframe tbody tr th {\n",
       "        vertical-align: top;\n",
       "    }\n",
       "\n",
       "    .dataframe thead th {\n",
       "        text-align: right;\n",
       "    }\n",
       "</style>\n",
       "<table border=\"1\" class=\"dataframe\">\n",
       "  <thead>\n",
       "    <tr style=\"text-align: right;\">\n",
       "      <th></th>\n",
       "      <th>Home Team Name</th>\n",
       "      <th>Away Team Name</th>\n",
       "      <th>Total Goals</th>\n",
       "      <th>Half-time Goals</th>\n",
       "    </tr>\n",
       "  </thead>\n",
       "  <tbody>\n",
       "    <tr>\n",
       "      <th>0</th>\n",
       "      <td>France</td>\n",
       "      <td>Mexico</td>\n",
       "      <td>5</td>\n",
       "      <td>3</td>\n",
       "    </tr>\n",
       "    <tr>\n",
       "      <th>1</th>\n",
       "      <td>USA</td>\n",
       "      <td>Belgium</td>\n",
       "      <td>3</td>\n",
       "      <td>2</td>\n",
       "    </tr>\n",
       "    <tr>\n",
       "      <th>2</th>\n",
       "      <td>Yugoslavia</td>\n",
       "      <td>Brazil</td>\n",
       "      <td>3</td>\n",
       "      <td>2</td>\n",
       "    </tr>\n",
       "    <tr>\n",
       "      <th>3</th>\n",
       "      <td>Romania</td>\n",
       "      <td>Peru</td>\n",
       "      <td>4</td>\n",
       "      <td>1</td>\n",
       "    </tr>\n",
       "    <tr>\n",
       "      <th>4</th>\n",
       "      <td>Argentina</td>\n",
       "      <td>France</td>\n",
       "      <td>1</td>\n",
       "      <td>0</td>\n",
       "    </tr>\n",
       "  </tbody>\n",
       "</table>\n",
       "</div>"
      ],
      "text/plain": [
       "  Home Team Name Away Team Name  Total Goals  Half-time Goals\n",
       "0         France         Mexico            5                3\n",
       "1            USA        Belgium            3                2\n",
       "2     Yugoslavia         Brazil            3                2\n",
       "3        Romania           Peru            4                1\n",
       "4      Argentina         France            1                0"
      ]
     },
     "execution_count": 24,
     "metadata": {},
     "output_type": "execute_result"
    }
   ],
   "source": [
    "# Create 'Total Goals' column\n",
    "df['Total Goals'] = df['Home Team Goals'] + df['Away Team Goals']\n",
    "\n",
    "# Create 'Half-time Goals' column (sum of home and away half-time goals)\n",
    "df['Half-time Goals'] = df['Half-time Home Goals'] + df['Half-time Away Goals']\n",
    "\n",
    "# Check updated columns\n",
    "df[['Home Team Name','Away Team Name','Total Goals','Half-time Goals']].head()"
   ]
  },
  {
   "cell_type": "code",
   "execution_count": 25,
   "metadata": {},
   "outputs": [
    {
     "data": {
      "application/vnd.microsoft.datawrangler.viewer.v0+json": {
       "columns": [
        {
         "name": "index",
         "rawType": "int64",
         "type": "integer"
        },
        {
         "name": "Home Team Name",
         "rawType": "object",
         "type": "string"
        }
       ],
       "conversionMethod": "pd.DataFrame",
       "ref": "737fdb53-5019-49b2-bda4-7f03ecccd168",
       "rows": [
        [
         "179",
         "North Korea"
        ],
        [
         "187",
         "North Korea"
        ],
        [
         "374",
         "North Korea"
        ],
        [
         "386",
         "North Korea"
        ],
        [
         "434",
         "North Korea"
        ],
        [
         "444",
         "North Korea"
        ],
        [
         "480",
         "North Korea"
        ],
        [
         "524",
         "North Korea"
        ],
        [
         "593",
         "North Korea"
        ],
        [
         "609",
         "North Korea"
        ],
        [
         "635",
         "North Korea"
        ],
        [
         "642",
         "North Korea"
        ],
        [
         "655",
         "North Korea"
        ],
        [
         "710",
         "North Korea"
        ],
        [
         "753",
         "North Korea"
        ],
        [
         "802",
         "North Korea"
        ],
        [
         "818",
         "North Korea"
        ]
       ],
       "shape": {
        "columns": 1,
        "rows": 17
       }
      },
      "text/html": [
       "<div>\n",
       "<style scoped>\n",
       "    .dataframe tbody tr th:only-of-type {\n",
       "        vertical-align: middle;\n",
       "    }\n",
       "\n",
       "    .dataframe tbody tr th {\n",
       "        vertical-align: top;\n",
       "    }\n",
       "\n",
       "    .dataframe thead th {\n",
       "        text-align: right;\n",
       "    }\n",
       "</style>\n",
       "<table border=\"1\" class=\"dataframe\">\n",
       "  <thead>\n",
       "    <tr style=\"text-align: right;\">\n",
       "      <th></th>\n",
       "      <th>Home Team Name</th>\n",
       "    </tr>\n",
       "  </thead>\n",
       "  <tbody>\n",
       "    <tr>\n",
       "      <th>179</th>\n",
       "      <td>North Korea</td>\n",
       "    </tr>\n",
       "    <tr>\n",
       "      <th>187</th>\n",
       "      <td>North Korea</td>\n",
       "    </tr>\n",
       "    <tr>\n",
       "      <th>374</th>\n",
       "      <td>North Korea</td>\n",
       "    </tr>\n",
       "    <tr>\n",
       "      <th>386</th>\n",
       "      <td>North Korea</td>\n",
       "    </tr>\n",
       "    <tr>\n",
       "      <th>434</th>\n",
       "      <td>North Korea</td>\n",
       "    </tr>\n",
       "    <tr>\n",
       "      <th>444</th>\n",
       "      <td>North Korea</td>\n",
       "    </tr>\n",
       "    <tr>\n",
       "      <th>480</th>\n",
       "      <td>North Korea</td>\n",
       "    </tr>\n",
       "    <tr>\n",
       "      <th>524</th>\n",
       "      <td>North Korea</td>\n",
       "    </tr>\n",
       "    <tr>\n",
       "      <th>593</th>\n",
       "      <td>North Korea</td>\n",
       "    </tr>\n",
       "    <tr>\n",
       "      <th>609</th>\n",
       "      <td>North Korea</td>\n",
       "    </tr>\n",
       "    <tr>\n",
       "      <th>635</th>\n",
       "      <td>North Korea</td>\n",
       "    </tr>\n",
       "    <tr>\n",
       "      <th>642</th>\n",
       "      <td>North Korea</td>\n",
       "    </tr>\n",
       "    <tr>\n",
       "      <th>655</th>\n",
       "      <td>North Korea</td>\n",
       "    </tr>\n",
       "    <tr>\n",
       "      <th>710</th>\n",
       "      <td>North Korea</td>\n",
       "    </tr>\n",
       "    <tr>\n",
       "      <th>753</th>\n",
       "      <td>North Korea</td>\n",
       "    </tr>\n",
       "    <tr>\n",
       "      <th>802</th>\n",
       "      <td>North Korea</td>\n",
       "    </tr>\n",
       "    <tr>\n",
       "      <th>818</th>\n",
       "      <td>North Korea</td>\n",
       "    </tr>\n",
       "  </tbody>\n",
       "</table>\n",
       "</div>"
      ],
      "text/plain": [
       "    Home Team Name\n",
       "179    North Korea\n",
       "187    North Korea\n",
       "374    North Korea\n",
       "386    North Korea\n",
       "434    North Korea\n",
       "444    North Korea\n",
       "480    North Korea\n",
       "524    North Korea\n",
       "593    North Korea\n",
       "609    North Korea\n",
       "635    North Korea\n",
       "642    North Korea\n",
       "655    North Korea\n",
       "710    North Korea\n",
       "753    North Korea\n",
       "802    North Korea\n",
       "818    North Korea"
      ]
     },
     "execution_count": 25,
     "metadata": {},
     "output_type": "execute_result"
    }
   ],
   "source": [
    "# Example of modifying entries that contain 'Korea'\n",
    "df.loc[df['Home Team Name'].str.contains('Korea'), 'Home Team Name'] = 'North Korea'\n",
    "df.loc[df['Away Team Name'].str.contains('Korea'), 'Away Team Name'] = 'South Korea'\n",
    "\n",
    "# Check updated entries\n",
    "df.loc[df['Home Team Name'].str.contains('Korea'), ['Home Team Name']]\n"
   ]
  },
  {
   "cell_type": "code",
   "execution_count": 26,
   "metadata": {},
   "outputs": [
    {
     "data": {
      "application/vnd.microsoft.datawrangler.viewer.v0+json": {
       "columns": [
        {
         "name": "index",
         "rawType": "int64",
         "type": "integer"
        },
        {
         "name": "Away Team Name",
         "rawType": "object",
         "type": "string"
        }
       ],
       "conversionMethod": "pd.DataFrame",
       "ref": "37bf1904-ccef-49b4-a9ea-ff0c46a0d7c9",
       "rows": [
        [
         "80",
         "South Korea"
        ],
        [
         "88",
         "South Korea"
        ],
        [
         "171",
         "South Korea"
        ],
        [
         "195",
         "South Korea"
        ],
        [
         "364",
         "South Korea"
        ],
        [
         "421",
         "South Korea"
        ],
        [
         "464",
         "South Korea"
        ],
        [
         "490",
         "South Korea"
        ],
        [
         "542",
         "South Korea"
        ],
        [
         "556",
         "South Korea"
        ],
        [
         "625",
         "South Korea"
        ],
        [
         "639",
         "South Korea"
        ],
        [
         "640",
         "South Korea"
        ],
        [
         "672",
         "South Korea"
        ],
        [
         "691",
         "South Korea"
        ],
        [
         "721",
         "South Korea"
        ],
        [
         "725",
         "South Korea"
        ],
        [
         "737",
         "South Korea"
        ],
        [
         "742",
         "South Korea"
        ],
        [
         "756",
         "South Korea"
        ],
        [
         "788",
         "South Korea"
        ]
       ],
       "shape": {
        "columns": 1,
        "rows": 21
       }
      },
      "text/html": [
       "<div>\n",
       "<style scoped>\n",
       "    .dataframe tbody tr th:only-of-type {\n",
       "        vertical-align: middle;\n",
       "    }\n",
       "\n",
       "    .dataframe tbody tr th {\n",
       "        vertical-align: top;\n",
       "    }\n",
       "\n",
       "    .dataframe thead th {\n",
       "        text-align: right;\n",
       "    }\n",
       "</style>\n",
       "<table border=\"1\" class=\"dataframe\">\n",
       "  <thead>\n",
       "    <tr style=\"text-align: right;\">\n",
       "      <th></th>\n",
       "      <th>Away Team Name</th>\n",
       "    </tr>\n",
       "  </thead>\n",
       "  <tbody>\n",
       "    <tr>\n",
       "      <th>80</th>\n",
       "      <td>South Korea</td>\n",
       "    </tr>\n",
       "    <tr>\n",
       "      <th>88</th>\n",
       "      <td>South Korea</td>\n",
       "    </tr>\n",
       "    <tr>\n",
       "      <th>171</th>\n",
       "      <td>South Korea</td>\n",
       "    </tr>\n",
       "    <tr>\n",
       "      <th>195</th>\n",
       "      <td>South Korea</td>\n",
       "    </tr>\n",
       "    <tr>\n",
       "      <th>364</th>\n",
       "      <td>South Korea</td>\n",
       "    </tr>\n",
       "    <tr>\n",
       "      <th>421</th>\n",
       "      <td>South Korea</td>\n",
       "    </tr>\n",
       "    <tr>\n",
       "      <th>464</th>\n",
       "      <td>South Korea</td>\n",
       "    </tr>\n",
       "    <tr>\n",
       "      <th>490</th>\n",
       "      <td>South Korea</td>\n",
       "    </tr>\n",
       "    <tr>\n",
       "      <th>542</th>\n",
       "      <td>South Korea</td>\n",
       "    </tr>\n",
       "    <tr>\n",
       "      <th>556</th>\n",
       "      <td>South Korea</td>\n",
       "    </tr>\n",
       "    <tr>\n",
       "      <th>625</th>\n",
       "      <td>South Korea</td>\n",
       "    </tr>\n",
       "    <tr>\n",
       "      <th>639</th>\n",
       "      <td>South Korea</td>\n",
       "    </tr>\n",
       "    <tr>\n",
       "      <th>640</th>\n",
       "      <td>South Korea</td>\n",
       "    </tr>\n",
       "    <tr>\n",
       "      <th>672</th>\n",
       "      <td>South Korea</td>\n",
       "    </tr>\n",
       "    <tr>\n",
       "      <th>691</th>\n",
       "      <td>South Korea</td>\n",
       "    </tr>\n",
       "    <tr>\n",
       "      <th>721</th>\n",
       "      <td>South Korea</td>\n",
       "    </tr>\n",
       "    <tr>\n",
       "      <th>725</th>\n",
       "      <td>South Korea</td>\n",
       "    </tr>\n",
       "    <tr>\n",
       "      <th>737</th>\n",
       "      <td>South Korea</td>\n",
       "    </tr>\n",
       "    <tr>\n",
       "      <th>742</th>\n",
       "      <td>South Korea</td>\n",
       "    </tr>\n",
       "    <tr>\n",
       "      <th>756</th>\n",
       "      <td>South Korea</td>\n",
       "    </tr>\n",
       "    <tr>\n",
       "      <th>788</th>\n",
       "      <td>South Korea</td>\n",
       "    </tr>\n",
       "  </tbody>\n",
       "</table>\n",
       "</div>"
      ],
      "text/plain": [
       "    Away Team Name\n",
       "80     South Korea\n",
       "88     South Korea\n",
       "171    South Korea\n",
       "195    South Korea\n",
       "364    South Korea\n",
       "421    South Korea\n",
       "464    South Korea\n",
       "490    South Korea\n",
       "542    South Korea\n",
       "556    South Korea\n",
       "625    South Korea\n",
       "639    South Korea\n",
       "640    South Korea\n",
       "672    South Korea\n",
       "691    South Korea\n",
       "721    South Korea\n",
       "725    South Korea\n",
       "737    South Korea\n",
       "742    South Korea\n",
       "756    South Korea\n",
       "788    South Korea"
      ]
     },
     "execution_count": 26,
     "metadata": {},
     "output_type": "execute_result"
    }
   ],
   "source": [
    "df.loc[df['Away Team Name'].str.contains('Korea'), ['Away Team Name']]"
   ]
  },
  {
   "cell_type": "code",
   "execution_count": 30,
   "metadata": {},
   "outputs": [
    {
     "data": {
      "application/vnd.microsoft.datawrangler.viewer.v0+json": {
       "columns": [
        {
         "name": "index",
         "rawType": "int64",
         "type": "integer"
        },
        {
         "name": "Year",
         "rawType": "int64",
         "type": "integer"
        },
        {
         "name": "Datetime",
         "rawType": "object",
         "type": "string"
        },
        {
         "name": "Stage",
         "rawType": "object",
         "type": "string"
        },
        {
         "name": "Stadium",
         "rawType": "object",
         "type": "string"
        },
        {
         "name": "City",
         "rawType": "object",
         "type": "string"
        },
        {
         "name": "Home Team Name",
         "rawType": "object",
         "type": "string"
        },
        {
         "name": "Home Team Goals",
         "rawType": "int64",
         "type": "integer"
        },
        {
         "name": "Away Team Goals",
         "rawType": "int64",
         "type": "integer"
        },
        {
         "name": "Away Team Name",
         "rawType": "object",
         "type": "string"
        },
        {
         "name": "Win conditions",
         "rawType": "object",
         "type": "string"
        },
        {
         "name": "Attendance",
         "rawType": "float64",
         "type": "float"
        },
        {
         "name": "Half-time Home Goals",
         "rawType": "int64",
         "type": "integer"
        },
        {
         "name": "Half-time Away Goals",
         "rawType": "int64",
         "type": "integer"
        },
        {
         "name": "Referee",
         "rawType": "object",
         "type": "string"
        },
        {
         "name": "Assistant 1",
         "rawType": "object",
         "type": "string"
        },
        {
         "name": "Assistant 2",
         "rawType": "object",
         "type": "string"
        },
        {
         "name": "RoundID",
         "rawType": "int64",
         "type": "integer"
        },
        {
         "name": "MatchID",
         "rawType": "int64",
         "type": "integer"
        },
        {
         "name": "Home Team Initials",
         "rawType": "object",
         "type": "string"
        },
        {
         "name": "Away Team Initials",
         "rawType": "object",
         "type": "string"
        },
        {
         "name": "Total Goals",
         "rawType": "int64",
         "type": "integer"
        },
        {
         "name": "Half-time Goals",
         "rawType": "int64",
         "type": "integer"
        }
       ],
       "conversionMethod": "pd.DataFrame",
       "ref": "cf8d1d3c-27b8-4eae-97de-40fe3ee25536",
       "rows": [
        [
         "201",
         "1970",
         "02 Jun 1970 - 16:00 ",
         "Group 2",
         "Cuauhtemoc",
         "Puebla ",
         "Uruguay",
         "2",
         "0",
         "Israel",
         " ",
         "20654.0",
         "1",
         "0",
         "DAVIDSON Bob (SCO)",
         "SCHEURER Ruedi (SUI)",
         "TAREKEGN Seyoum (ETH)",
         "250",
         "1881",
         "URU",
         "ISR",
         "2",
         "1"
        ],
        [
         "208",
         "1970",
         "06 Jun 1970 - 16:00 ",
         "Group 2",
         "Cuauhtemoc",
         "Puebla ",
         "Uruguay",
         "0",
         "0",
         "Italy",
         " ",
         "29968.0",
         "0",
         "0",
         "GLOECKNER Rudolf (GDR)",
         "TSCHENSCHER Kurt (GER)",
         "HORVAT Drago (YUG)",
         "250",
         "1884",
         "URU",
         "ITA",
         "0",
         "0"
        ],
        [
         "216",
         "1970",
         "10 Jun 1970 - 16:00 ",
         "Group 2",
         "Cuauhtemoc",
         "Puebla ",
         "Sweden",
         "1",
         "0",
         "Uruguay",
         " ",
         "18163.0",
         "0",
         "0",
         "LANDAUER Henry (USA)",
         "TAYLOR John (ENG)",
         "RADULESCU Andrei (ROU)",
         "250",
         "1922",
         "SWE",
         "URU",
         "1",
         "0"
        ],
        [
         "372",
         "1986",
         "05 Jun 1986 - 12:00 ",
         "Group A",
         "Cuauhtemoc",
         "Puebla ",
         "Italy",
         "1",
         "1",
         "Argentina",
         " ",
         "32000.0",
         "1",
         "1",
         "KEIZER Jan (NED)",
         "MARQUEZ RAMIREZ Antonio (MEX)",
         "SNODDY Alan (NIR)",
         "308",
         "394",
         "ITA",
         "ARG",
         "2",
         "2"
        ],
        [
         "386",
         "1986",
         "10 Jun 1986 - 12:00 ",
         "Group A",
         "Cuauhtemoc",
         "Puebla ",
         "North Korea",
         "2",
         "3",
         "Italy",
         " ",
         "20000.0",
         "0",
         "1",
         "SOCHA David (USA)",
         "URREA Joaquin (MEX)",
         "AL SHARIF Jamal (SYR)",
         "308",
         "643",
         "KOR",
         "ITA",
         "5",
         "1"
        ],
        [
         "398",
         "1986",
         "16 Jun 1986 - 16:00 ",
         "Round of 16",
         "Cuauhtemoc",
         "Puebla ",
         "Argentina",
         "1",
         "0",
         "Uruguay",
         " ",
         "26000.0",
         "1",
         "0",
         "AGNOLIN Luigi (ITA)",
         "COURTNEY George (ENG)",
         "SILVA VALENTE Carlos Alberto (POR)",
         "309",
         "398",
         "ARG",
         "URU",
         "1",
         "1"
        ],
        [
         "406",
         "1986",
         "22 Jun 1986 - 16:00 ",
         "Quarter-finals",
         "Cuauhtemoc",
         "Puebla ",
         "Spain",
         "1",
         "1",
         "Belgium",
         "Belgium win on penalties (4 - 5) ",
         "45000.0",
         "0",
         "0",
         "KIRSCHEN Siegfried (GER)",
         "CODESAL MENDEZ Edgardo (MEX)",
         "BRUMMEIER Horst (AUT)",
         "714",
         "421",
         "ESP",
         "BEL",
         "2",
         "0"
        ],
        [
         "410",
         "1986",
         "28 Jun 1986 - 12:00 ",
         "Match for third place",
         "Cuauhtemoc",
         "Puebla ",
         "France",
         "4",
         "2",
         "Belgium",
         "France win after extra time ",
         "21000.0",
         "0",
         "0",
         "COURTNEY George (ENG)",
         "SILVA ARCE Hernan (CHI)",
         "AL SHARIF Jamal (SYR)",
         "3468",
         "422",
         "FRA",
         "BEL",
         "6",
         "0"
        ]
       ],
       "shape": {
        "columns": 22,
        "rows": 8
       }
      },
      "text/html": [
       "<div>\n",
       "<style scoped>\n",
       "    .dataframe tbody tr th:only-of-type {\n",
       "        vertical-align: middle;\n",
       "    }\n",
       "\n",
       "    .dataframe tbody tr th {\n",
       "        vertical-align: top;\n",
       "    }\n",
       "\n",
       "    .dataframe thead th {\n",
       "        text-align: right;\n",
       "    }\n",
       "</style>\n",
       "<table border=\"1\" class=\"dataframe\">\n",
       "  <thead>\n",
       "    <tr style=\"text-align: right;\">\n",
       "      <th></th>\n",
       "      <th>Year</th>\n",
       "      <th>Datetime</th>\n",
       "      <th>Stage</th>\n",
       "      <th>Stadium</th>\n",
       "      <th>City</th>\n",
       "      <th>Home Team Name</th>\n",
       "      <th>Home Team Goals</th>\n",
       "      <th>Away Team Goals</th>\n",
       "      <th>Away Team Name</th>\n",
       "      <th>Win conditions</th>\n",
       "      <th>...</th>\n",
       "      <th>Half-time Away Goals</th>\n",
       "      <th>Referee</th>\n",
       "      <th>Assistant 1</th>\n",
       "      <th>Assistant 2</th>\n",
       "      <th>RoundID</th>\n",
       "      <th>MatchID</th>\n",
       "      <th>Home Team Initials</th>\n",
       "      <th>Away Team Initials</th>\n",
       "      <th>Total Goals</th>\n",
       "      <th>Half-time Goals</th>\n",
       "    </tr>\n",
       "  </thead>\n",
       "  <tbody>\n",
       "    <tr>\n",
       "      <th>201</th>\n",
       "      <td>1970</td>\n",
       "      <td>02 Jun 1970 - 16:00</td>\n",
       "      <td>Group 2</td>\n",
       "      <td>Cuauhtemoc</td>\n",
       "      <td>Puebla</td>\n",
       "      <td>Uruguay</td>\n",
       "      <td>2</td>\n",
       "      <td>0</td>\n",
       "      <td>Israel</td>\n",
       "      <td></td>\n",
       "      <td>...</td>\n",
       "      <td>0</td>\n",
       "      <td>DAVIDSON Bob (SCO)</td>\n",
       "      <td>SCHEURER Ruedi (SUI)</td>\n",
       "      <td>TAREKEGN Seyoum (ETH)</td>\n",
       "      <td>250</td>\n",
       "      <td>1881</td>\n",
       "      <td>URU</td>\n",
       "      <td>ISR</td>\n",
       "      <td>2</td>\n",
       "      <td>1</td>\n",
       "    </tr>\n",
       "    <tr>\n",
       "      <th>208</th>\n",
       "      <td>1970</td>\n",
       "      <td>06 Jun 1970 - 16:00</td>\n",
       "      <td>Group 2</td>\n",
       "      <td>Cuauhtemoc</td>\n",
       "      <td>Puebla</td>\n",
       "      <td>Uruguay</td>\n",
       "      <td>0</td>\n",
       "      <td>0</td>\n",
       "      <td>Italy</td>\n",
       "      <td></td>\n",
       "      <td>...</td>\n",
       "      <td>0</td>\n",
       "      <td>GLOECKNER Rudolf (GDR)</td>\n",
       "      <td>TSCHENSCHER Kurt (GER)</td>\n",
       "      <td>HORVAT Drago (YUG)</td>\n",
       "      <td>250</td>\n",
       "      <td>1884</td>\n",
       "      <td>URU</td>\n",
       "      <td>ITA</td>\n",
       "      <td>0</td>\n",
       "      <td>0</td>\n",
       "    </tr>\n",
       "    <tr>\n",
       "      <th>216</th>\n",
       "      <td>1970</td>\n",
       "      <td>10 Jun 1970 - 16:00</td>\n",
       "      <td>Group 2</td>\n",
       "      <td>Cuauhtemoc</td>\n",
       "      <td>Puebla</td>\n",
       "      <td>Sweden</td>\n",
       "      <td>1</td>\n",
       "      <td>0</td>\n",
       "      <td>Uruguay</td>\n",
       "      <td></td>\n",
       "      <td>...</td>\n",
       "      <td>0</td>\n",
       "      <td>LANDAUER Henry (USA)</td>\n",
       "      <td>TAYLOR John (ENG)</td>\n",
       "      <td>RADULESCU Andrei (ROU)</td>\n",
       "      <td>250</td>\n",
       "      <td>1922</td>\n",
       "      <td>SWE</td>\n",
       "      <td>URU</td>\n",
       "      <td>1</td>\n",
       "      <td>0</td>\n",
       "    </tr>\n",
       "    <tr>\n",
       "      <th>372</th>\n",
       "      <td>1986</td>\n",
       "      <td>05 Jun 1986 - 12:00</td>\n",
       "      <td>Group A</td>\n",
       "      <td>Cuauhtemoc</td>\n",
       "      <td>Puebla</td>\n",
       "      <td>Italy</td>\n",
       "      <td>1</td>\n",
       "      <td>1</td>\n",
       "      <td>Argentina</td>\n",
       "      <td></td>\n",
       "      <td>...</td>\n",
       "      <td>1</td>\n",
       "      <td>KEIZER Jan (NED)</td>\n",
       "      <td>MARQUEZ RAMIREZ Antonio (MEX)</td>\n",
       "      <td>SNODDY Alan (NIR)</td>\n",
       "      <td>308</td>\n",
       "      <td>394</td>\n",
       "      <td>ITA</td>\n",
       "      <td>ARG</td>\n",
       "      <td>2</td>\n",
       "      <td>2</td>\n",
       "    </tr>\n",
       "    <tr>\n",
       "      <th>386</th>\n",
       "      <td>1986</td>\n",
       "      <td>10 Jun 1986 - 12:00</td>\n",
       "      <td>Group A</td>\n",
       "      <td>Cuauhtemoc</td>\n",
       "      <td>Puebla</td>\n",
       "      <td>North Korea</td>\n",
       "      <td>2</td>\n",
       "      <td>3</td>\n",
       "      <td>Italy</td>\n",
       "      <td></td>\n",
       "      <td>...</td>\n",
       "      <td>1</td>\n",
       "      <td>SOCHA David (USA)</td>\n",
       "      <td>URREA Joaquin (MEX)</td>\n",
       "      <td>AL SHARIF Jamal (SYR)</td>\n",
       "      <td>308</td>\n",
       "      <td>643</td>\n",
       "      <td>KOR</td>\n",
       "      <td>ITA</td>\n",
       "      <td>5</td>\n",
       "      <td>1</td>\n",
       "    </tr>\n",
       "    <tr>\n",
       "      <th>398</th>\n",
       "      <td>1986</td>\n",
       "      <td>16 Jun 1986 - 16:00</td>\n",
       "      <td>Round of 16</td>\n",
       "      <td>Cuauhtemoc</td>\n",
       "      <td>Puebla</td>\n",
       "      <td>Argentina</td>\n",
       "      <td>1</td>\n",
       "      <td>0</td>\n",
       "      <td>Uruguay</td>\n",
       "      <td></td>\n",
       "      <td>...</td>\n",
       "      <td>0</td>\n",
       "      <td>AGNOLIN Luigi (ITA)</td>\n",
       "      <td>COURTNEY George (ENG)</td>\n",
       "      <td>SILVA VALENTE Carlos Alberto (POR)</td>\n",
       "      <td>309</td>\n",
       "      <td>398</td>\n",
       "      <td>ARG</td>\n",
       "      <td>URU</td>\n",
       "      <td>1</td>\n",
       "      <td>1</td>\n",
       "    </tr>\n",
       "    <tr>\n",
       "      <th>406</th>\n",
       "      <td>1986</td>\n",
       "      <td>22 Jun 1986 - 16:00</td>\n",
       "      <td>Quarter-finals</td>\n",
       "      <td>Cuauhtemoc</td>\n",
       "      <td>Puebla</td>\n",
       "      <td>Spain</td>\n",
       "      <td>1</td>\n",
       "      <td>1</td>\n",
       "      <td>Belgium</td>\n",
       "      <td>Belgium win on penalties (4 - 5)</td>\n",
       "      <td>...</td>\n",
       "      <td>0</td>\n",
       "      <td>KIRSCHEN Siegfried (GER)</td>\n",
       "      <td>CODESAL MENDEZ Edgardo (MEX)</td>\n",
       "      <td>BRUMMEIER Horst (AUT)</td>\n",
       "      <td>714</td>\n",
       "      <td>421</td>\n",
       "      <td>ESP</td>\n",
       "      <td>BEL</td>\n",
       "      <td>2</td>\n",
       "      <td>0</td>\n",
       "    </tr>\n",
       "    <tr>\n",
       "      <th>410</th>\n",
       "      <td>1986</td>\n",
       "      <td>28 Jun 1986 - 12:00</td>\n",
       "      <td>Match for third place</td>\n",
       "      <td>Cuauhtemoc</td>\n",
       "      <td>Puebla</td>\n",
       "      <td>France</td>\n",
       "      <td>4</td>\n",
       "      <td>2</td>\n",
       "      <td>Belgium</td>\n",
       "      <td>France win after extra time</td>\n",
       "      <td>...</td>\n",
       "      <td>0</td>\n",
       "      <td>COURTNEY George (ENG)</td>\n",
       "      <td>SILVA ARCE Hernan (CHI)</td>\n",
       "      <td>AL SHARIF Jamal (SYR)</td>\n",
       "      <td>3468</td>\n",
       "      <td>422</td>\n",
       "      <td>FRA</td>\n",
       "      <td>BEL</td>\n",
       "      <td>6</td>\n",
       "      <td>0</td>\n",
       "    </tr>\n",
       "  </tbody>\n",
       "</table>\n",
       "<p>8 rows × 22 columns</p>\n",
       "</div>"
      ],
      "text/plain": [
       "     Year              Datetime                  Stage     Stadium     City  \\\n",
       "201  1970  02 Jun 1970 - 16:00                 Group 2  Cuauhtemoc  Puebla    \n",
       "208  1970  06 Jun 1970 - 16:00                 Group 2  Cuauhtemoc  Puebla    \n",
       "216  1970  10 Jun 1970 - 16:00                 Group 2  Cuauhtemoc  Puebla    \n",
       "372  1986  05 Jun 1986 - 12:00                 Group A  Cuauhtemoc  Puebla    \n",
       "386  1986  10 Jun 1986 - 12:00                 Group A  Cuauhtemoc  Puebla    \n",
       "398  1986  16 Jun 1986 - 16:00             Round of 16  Cuauhtemoc  Puebla    \n",
       "406  1986  22 Jun 1986 - 16:00          Quarter-finals  Cuauhtemoc  Puebla    \n",
       "410  1986  28 Jun 1986 - 12:00   Match for third place  Cuauhtemoc  Puebla    \n",
       "\n",
       "    Home Team Name  Home Team Goals  Away Team Goals Away Team Name  \\\n",
       "201        Uruguay                2                0         Israel   \n",
       "208        Uruguay                0                0          Italy   \n",
       "216         Sweden                1                0        Uruguay   \n",
       "372          Italy                1                1      Argentina   \n",
       "386    North Korea                2                3          Italy   \n",
       "398      Argentina                1                0        Uruguay   \n",
       "406          Spain                1                1        Belgium   \n",
       "410         France                4                2        Belgium   \n",
       "\n",
       "                        Win conditions  ...  Half-time Away Goals  \\\n",
       "201                                     ...                     0   \n",
       "208                                     ...                     0   \n",
       "216                                     ...                     0   \n",
       "372                                     ...                     1   \n",
       "386                                     ...                     1   \n",
       "398                                     ...                     0   \n",
       "406  Belgium win on penalties (4 - 5)   ...                     0   \n",
       "410       France win after extra time   ...                     0   \n",
       "\n",
       "                      Referee                    Assistant 1  \\\n",
       "201        DAVIDSON Bob (SCO)           SCHEURER Ruedi (SUI)   \n",
       "208    GLOECKNER Rudolf (GDR)         TSCHENSCHER Kurt (GER)   \n",
       "216      LANDAUER Henry (USA)              TAYLOR John (ENG)   \n",
       "372          KEIZER Jan (NED)  MARQUEZ RAMIREZ Antonio (MEX)   \n",
       "386         SOCHA David (USA)            URREA Joaquin (MEX)   \n",
       "398       AGNOLIN Luigi (ITA)          COURTNEY George (ENG)   \n",
       "406  KIRSCHEN Siegfried (GER)   CODESAL MENDEZ Edgardo (MEX)   \n",
       "410     COURTNEY George (ENG)        SILVA ARCE Hernan (CHI)   \n",
       "\n",
       "                            Assistant 2 RoundID MatchID  Home Team Initials  \\\n",
       "201               TAREKEGN Seyoum (ETH)     250    1881                 URU   \n",
       "208                  HORVAT Drago (YUG)     250    1884                 URU   \n",
       "216              RADULESCU Andrei (ROU)     250    1922                 SWE   \n",
       "372                   SNODDY Alan (NIR)     308     394                 ITA   \n",
       "386               AL SHARIF Jamal (SYR)     308     643                 KOR   \n",
       "398  SILVA VALENTE Carlos Alberto (POR)     309     398                 ARG   \n",
       "406               BRUMMEIER Horst (AUT)     714     421                 ESP   \n",
       "410               AL SHARIF Jamal (SYR)    3468     422                 FRA   \n",
       "\n",
       "     Away Team Initials Total Goals Half-time Goals  \n",
       "201                 ISR           2               1  \n",
       "208                 ITA           0               0  \n",
       "216                 URU           1               0  \n",
       "372                 ARG           2               2  \n",
       "386                 ITA           5               1  \n",
       "398                 URU           1               1  \n",
       "406                 BEL           2               0  \n",
       "410                 BEL           6               0  \n",
       "\n",
       "[8 rows x 22 columns]"
      ]
     },
     "execution_count": 30,
     "metadata": {},
     "output_type": "execute_result"
    }
   ],
   "source": [
    "df_Puebla = df[df['City'] == 'Puebla ']\n",
    "df_Puebla"
   ]
  },
  {
   "cell_type": "markdown",
   "metadata": {},
   "source": [
    "## Summary\n",
    "In this notebook, we covered:\n",
    "1. Loading data with Pandas.\n",
    "2. Inspecting the dataset.\n",
    "3. Selecting rows and columns.\n",
    "4. Boolean filtering.\n",
    "5. Creating and modifying columns.\n",
    "\n",
    "Feel free to experiment with other Pandas methods to learn more!"
   ]
  }
 ],
 "metadata": {
  "kernelspec": {
   "display_name": "Python 3",
   "language": "python",
   "name": "python3"
  },
  "language_info": {
   "codemirror_mode": {
    "name": "ipython",
    "version": 3
   },
   "file_extension": ".py",
   "mimetype": "text/x-python",
   "name": "python",
   "nbconvert_exporter": "python",
   "pygments_lexer": "ipython3",
   "version": "3.12.0"
  }
 },
 "nbformat": 4,
 "nbformat_minor": 2
}
