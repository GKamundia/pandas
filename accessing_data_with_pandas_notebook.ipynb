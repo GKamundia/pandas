{
 "cells": [
  {
   "cell_type": "markdown",
   "metadata": {},
   "source": [
    "# World Cup Matches -  Notebook\n",
    "This notebook will guide you through:\n",
    "- Loading and inspecting the dataset with Pandas\n",
    "- Selecting specific rows and columns\n",
    "- Filtering data with boolean masks\n",
    "- Adding new columns and modifying existing ones"
   ]
  },
  {
   "cell_type": "markdown",
   "metadata": {},
   "source": [
    "## Objectives\n",
    "1. Access information about a dataset with pandas methods.\n",
    "2. Select rows and columns using `.loc` and `.iloc`.\n",
    "3. Use boolean indexing to filter data.\n",
    "4. Add and modify columns in a DataFrame."
   ]
  },
  {
   "cell_type": "code",
   "execution_count": null,
   "metadata": {},
   "outputs": [],
   "source": [
    "import pandas as pd\n",
    "\n",
    "# Load the dataset\n",
    "df = pd.read_csv('WorldCupMatches.csv')\n",
    "\n",
    "# Display the first few rows\n",
    "df.head()"
   ]
  },
  {
   "cell_type": "markdown",
   "metadata": {},
   "source": [
    "## Basic Data Inspection\n",
    "We'll look at the last rows, data info, shape, and column names."
   ]
  },
  {
   "cell_type": "code",
   "execution_count": null,
   "metadata": {},
   "outputs": [],
   "source": [
    "# Display last rows\n",
    "df.tail()"
   ]
  },
  {
   "cell_type": "code",
   "execution_count": null,
   "metadata": {},
   "outputs": [],
   "source": [
    "# Get a concise summary of the data\n",
    "df.info()\n",
    "\n",
    "#df.describe()"
   ]
  },
  {
   "cell_type": "code",
   "execution_count": null,
   "metadata": {},
   "outputs": [],
   "source": [
    "# Get the shape (rows, columns)\n",
    "df.shape\n"
   ]
  },
  {
   "cell_type": "code",
   "execution_count": null,
   "metadata": {},
   "outputs": [],
   "source": [
    "# Get column names\n",
    "df.columns"
   ]
  },
  {
   "cell_type": "markdown",
   "metadata": {},
   "source": [
    "## Selecting Rows and Columns\n",
    "Use `.iloc` and `.loc` for slicing and indexing."
   ]
  },
  {
   "cell_type": "code",
   "execution_count": null,
   "metadata": {},
   "outputs": [],
   "source": [
    "# Select rows by index from 3 to 5\n",
    "df.iloc[3:6]\n"
   ]
  },
  {
   "cell_type": "code",
   "execution_count": null,
   "metadata": {},
   "outputs": [],
   "source": [
    "# Select rows by index 5 to 9, only 'Home Team Name' and 'Away Team Name'\n",
    "# df.loc[row_selector, column_selector]\n",
    "df.loc[5:9, ['Home Team Name', 'Away Team Name']]"
   ]
  },
  {
   "cell_type": "markdown",
   "metadata": {},
   "source": [
    "# loc vs. iloc in Pandas (Very Simple Explanation)\n",
    "An index in Pandas is like a unique identifier for each row in a DataFrame. It helps you quickly locate and access data.\n",
    "When you create a DataFrame, Pandas automatically assigns an index (which is just row numbers starting from 0).\n",
    "\n",
    "**iloc** is integer position-based.\n",
    "- You use it when you want to select rows or columns by their position (like counting from 0, 1, 2, …).\n",
    "\n",
    "Example:\n",
    "- To get the first row (regardless of its label), you can use:\n",
    "- df.iloc[0]\n",
    "\n",
    "If you want to use a specific column (like \"Name\") as the index:\n",
    "**loc** is label-based.  \n",
    "You use it when you want to select rows or columns by their names (the labels in the index or column headers).\n",
    "\n",
    "**Example:**  \n",
    "- If your DataFrame has a row labeled \"Alice\", you can get that row with:\n",
    "- df.loc[\"Alice\"] OR \n",
    "- df_Alice = df[df['Name'] == \"Alice\"]\n"
   ]
  },
  {
   "cell_type": "markdown",
   "metadata": {},
   "source": [
    "## Boolean Masking\n",
    "Boolean masking is a powerful technique in Pandas that allows you to filter rows in a DataFrame based on True/False conditions.\n",
    "- Filter rows based on multiple conditions (&, |, ~ for AND, OR, NOT).\n"
   ]
  },
  {
   "cell_type": "code",
   "execution_count": null,
   "metadata": {},
   "outputs": [],
   "source": [
    "# Example: Find all games in Group 3 for the 1950 World Cup\n",
    "df_1950_group3 = df[(df['Year'] == 1950) & (df['Stage'] == 'Group 3')]\n",
    "df_1950_group3\n",
    "\n",
    "# Display only the attendance column for these filtered rows\n",
    "df_1950_group3['Attendance']"
   ]
  },
  {
   "cell_type": "markdown",
   "metadata": {},
   "source": [
    "## Creating and Modifying Columns\n",
    "Here, we'll create a \"Total Goals\" column and show how to modify certain values."
   ]
  },
  {
   "cell_type": "code",
   "execution_count": null,
   "metadata": {},
   "outputs": [],
   "source": [
    "# Create 'Total Goals' column\n",
    "df['Total Goals'] = df['Home Team Goals'] + df['Away Team Goals']\n",
    "\n",
    "# Create 'Half-time Goals' column (sum of home and away half-time goals)\n",
    "df['Half-time Goals'] = df['Half-time Home Goals'] + df['Half-time Away Goals']\n",
    "\n",
    "# Check updated columns\n",
    "df[['Home Team Name','Away Team Name','Total Goals','Half-time Goals']].head()"
   ]
  },
  {
   "cell_type": "code",
   "execution_count": null,
   "metadata": {},
   "outputs": [],
   "source": [
    "# Example of modifying entries that contain 'Korea'\n",
    "df.loc[df['Home Team Name'].str.contains('Korea'), 'Home Team Name'] = 'North Korea'\n",
    "df.loc[df['Away Team Name'].str.contains('Korea'), 'Away Team Name'] = 'South Korea'\n",
    "\n",
    "# Check updated entries\n",
    "df.loc[df['Home Team Name'].str.contains('Korea'), ['Home Team Name']]\n"
   ]
  },
  {
   "cell_type": "code",
   "execution_count": null,
   "metadata": {},
   "outputs": [],
   "source": [
    "df.loc[df['Away Team Name'].str.contains('Korea'), ['Away Team Name']]"
   ]
  },
  {
   "cell_type": "code",
   "execution_count": null,
   "metadata": {},
   "outputs": [],
   "source": [
    "df_Puebla = df[df['City'] == 'Puebla ']\n",
    "df_Puebla"
   ]
  },
  {
   "cell_type": "markdown",
   "metadata": {},
   "source": [
    "## Summary\n",
    "In this notebook, we covered:\n",
    "1. Loading data with Pandas.\n",
    "2. Inspecting the dataset.\n",
    "3. Selecting rows and columns.\n",
    "4. Boolean filtering.\n",
    "5. Creating and modifying columns.\n",
    "\n",
    "Feel free to experiment with other Pandas methods to learn more!"
   ]
  }
 ],
 "metadata": {
  "kernelspec": {
   "display_name": "Python 3",
   "language": "python",
   "name": "python3"
  },
  "language_info": {
   "codemirror_mode": {
    "name": "ipython",
    "version": 3
   },
   "file_extension": ".py",
   "mimetype": "text/x-python",
   "name": "python",
   "nbconvert_exporter": "python",
   "pygments_lexer": "ipython3",
   "version": "3.12.0"
  }
 },
 "nbformat": 4,
 "nbformat_minor": 2
}
